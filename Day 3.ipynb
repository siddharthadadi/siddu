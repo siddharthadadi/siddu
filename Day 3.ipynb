{
 "cells": [
  {
   "cell_type": "code",
   "execution_count": 1,
   "id": "e7abd020",
   "metadata": {},
   "outputs": [
    {
     "name": "stdout",
     "output_type": "stream",
     "text": [
      "Enter marks for subject 1: 6\n",
      "Enter marks for subject 2: 7\n",
      "Enter marks for subject 3: 9\n",
      "Grade: Fail\n"
     ]
    }
   ],
   "source": [
    "# Function to calculate the grade based on average marks\n",
    "def calculate_grade(mark1, mark2, mark3):\n",
    "    # Calculate average marks\n",
    "    average = (mark1 + mark2 + mark3) / 3\n",
    "\n",
    "    # Determine the grade based on the average\n",
    "    if average >= 90:\n",
    "        grade = \"Grade: A\"\n",
    "    elif 80 <= average < 90:\n",
    "        grade = \"Grade: B\"\n",
    "    elif 70 <= average < 80:\n",
    "        grade = \"Grade: C\"\n",
    "    else:\n",
    "        grade = \"Grade: Fail\"\n",
    "    \n",
    "    return grade\n",
    "\n",
    "# Taking input from the user for three subjects\n",
    "mark1 = float(input(\"Enter marks for subject 1: \"))\n",
    "mark2 = float(input(\"Enter marks for subject 2: \"))\n",
    "mark3 = float(input(\"Enter marks for subject 3: \"))\n",
    "\n",
    "# Calculate and print the grade\n",
    "grade = calculate_grade(mark1, mark2, mark3)\n",
    "print(grade)\n"
   ]
  },
  {
   "cell_type": "code",
   "execution_count": null,
   "id": "3ae583f2",
   "metadata": {},
   "outputs": [],
   "source": []
  }
 ],
 "metadata": {
  "kernelspec": {
   "display_name": "Python 3 (ipykernel)",
   "language": "python",
   "name": "python3"
  },
  "language_info": {
   "codemirror_mode": {
    "name": "ipython",
    "version": 3
   },
   "file_extension": ".py",
   "mimetype": "text/x-python",
   "name": "python",
   "nbconvert_exporter": "python",
   "pygments_lexer": "ipython3",
   "version": "3.10.13"
  }
 },
 "nbformat": 4,
 "nbformat_minor": 5
}
