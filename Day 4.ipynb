{
 "cells": [
  {
   "cell_type": "code",
   "execution_count": null,
   "id": "82d56909",
   "metadata": {},
   "outputs": [],
   "source": [
    "# Function to calculate the sum of all even numbers up to n\n",
    "def sum_of_evens(n):\n",
    "    sum_evens = 0\n",
    "    for i in range(2, n+1, 2):  # Start from 2, increment by 2 to get only even numbers\n",
    "        sum_evens += i\n",
    "    return sum_evens\n",
    "\n",
    "# Taking input from the user\n",
    "n = int(input(\"Enter a positive integer n: \"))\n",
    "\n",
    "# Check if the input is a positive integer\n",
    "if n > 0:\n",
    "    sum_evens = sum_of_evens(n)\n",
    "    print(f\"The sum of all even numbers between 1 and {n} is: {sum_evens}\")\n",
    "else:\n",
    "    print(\"Please enter a positive integer.\")\n"
   ]
  }
 ],
 "metadata": {
  "kernelspec": {
   "display_name": "Python 3 (ipykernel)",
   "language": "python",
   "name": "python3"
  },
  "language_info": {
   "codemirror_mode": {
    "name": "ipython",
    "version": 3
   },
   "file_extension": ".py",
   "mimetype": "text/x-python",
   "name": "python",
   "nbconvert_exporter": "python",
   "pygments_lexer": "ipython3",
   "version": "3.10.13"
  }
 },
 "nbformat": 4,
 "nbformat_minor": 5
}
