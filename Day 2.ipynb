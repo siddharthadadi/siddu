{
 "cells": [
  {
   "cell_type": "code",
   "execution_count": 1,
   "id": "a45427f1",
   "metadata": {},
   "outputs": [
    {
     "name": "stdout",
     "output_type": "stream",
     "text": [
      "List Elements:\n",
      "First Element: 10\n",
      "Third Element: 30\n",
      "Last Element: 50\n"
     ]
    }
   ],
   "source": [
    "# Creating a list with 5 elements\n",
    "my_list = [10, 20, 30, 40, 50]\n",
    "\n",
    "first_element = my_list[0]   # Accessing the first element\n",
    "third_element = my_list[2]   # Accessing the third element\n",
    "last_element = my_list[-1]   # Accessing the last element\n",
    "\n",
    "print(\"List Elements:\")\n",
    "print(f\"First Element: {first_element}\")\n",
    "print(f\"Third Element: {third_element}\")\n",
    "print(f\"Last Element: {last_element}\")\n"
   ]
  },
  {
   "cell_type": "code",
   "execution_count": 2,
   "id": "84f0c0ad",
   "metadata": {},
   "outputs": [
    {
     "name": "stdout",
     "output_type": "stream",
     "text": [
      "\n",
      "Dictionary Elements:\n",
      "Name: Alice\n",
      "Job: Engineer\n"
     ]
    }
   ],
   "source": [
    "# Creating a dictionary with 5 key-value pairs\n",
    "my_dict = {\n",
    "    \"name\": \"Alice\",\n",
    "    \"age\": 25,\n",
    "    \"city\": \"New York\",\n",
    "    \"job\": \"Engineer\",\n",
    "    \"hobby\": \"Reading\"\n",
    "}\n",
    "name = my_dict[\"name\"]  \n",
    "job = my_dict[\"job\"]     \n",
    "print(\"\\nDictionary Elements:\")\n",
    "print(f\"Name: {name}\")\n",
    "print(f\"Job: {job}\")\n"
   ]
  },
  {
   "cell_type": "code",
   "execution_count": 3,
   "id": "503b9efb",
   "metadata": {},
   "outputs": [
    {
     "name": "stdout",
     "output_type": "stream",
     "text": [
      "\n",
      "Tuple Elements:\n",
      "Second Element: b\n",
      "Fourth Element: d\n"
     ]
    }
   ],
   "source": [
    "# Creating a tuple with 5 elements\n",
    "my_tuple = ('a', 'b', 'c', 'd', 'e')\n",
    "\n",
    "\n",
    "second_element = my_tuple[1]   \n",
    "fourth_element = my_tuple[3]   \n",
    "\n",
    "print(\"\\nTuple Elements:\")\n",
    "print(f\"Second Element: {second_element}\")\n",
    "print(f\"Fourth Element: {fourth_element}\")\n"
   ]
  },
  {
   "cell_type": "code",
   "execution_count": null,
   "id": "92497734",
   "metadata": {},
   "outputs": [],
   "source": []
  }
 ],
 "metadata": {
  "kernelspec": {
   "display_name": "Python 3 (ipykernel)",
   "language": "python",
   "name": "python3"
  },
  "language_info": {
   "codemirror_mode": {
    "name": "ipython",
    "version": 3
   },
   "file_extension": ".py",
   "mimetype": "text/x-python",
   "name": "python",
   "nbconvert_exporter": "python",
   "pygments_lexer": "ipython3",
   "version": "3.10.13"
  }
 },
 "nbformat": 4,
 "nbformat_minor": 5
}
