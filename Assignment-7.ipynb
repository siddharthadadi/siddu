{
 "cells": [
  {
   "cell_type": "code",
   "execution_count": 2,
   "id": "9151cb23",
   "metadata": {},
   "outputs": [
    {
     "name": "stderr",
     "output_type": "stream",
     "text": [
      "[nltk_data] Downloading package punkt to\n",
      "[nltk_data]     C:\\Users\\HP\\AppData\\Roaming\\nltk_data...\n",
      "[nltk_data]   Package punkt is already up-to-date!\n",
      "[nltk_data] Downloading package stopwords to\n",
      "[nltk_data]     C:\\Users\\HP\\AppData\\Roaming\\nltk_data...\n",
      "[nltk_data]   Package stopwords is already up-to-date!\n"
     ]
    },
    {
     "name": "stdout",
     "output_type": "stream",
     "text": [
      "Filtered words using NLTK: ['example', 'sentence', '.', 'contains', 'stopwords', 'words', '!']\n",
      "Filtered words using SpaCy: ['example', 'sentence', '.', 'contains', 'stopwords', 'words', '!']\n"
     ]
    }
   ],
   "source": [
    "import nltk\n",
    "import spacy\n",
    "from nltk.corpus import stopwords\n",
    "from nltk.tokenize import word_tokenize\n",
    "\n",
    "# Download NLTK resources\n",
    "nltk.download('punkt')\n",
    "nltk.download('stopwords')\n",
    "\n",
    "# Load SpaCy model\n",
    "nlp = spacy.load(\"en_core_web_sm\")\n",
    "\n",
    "# Example text\n",
    "text = \"This is an example sentence. It contains some stopwords and other words!\"\n",
    "\n",
    "# Convert text to lowercase\n",
    "text_lower = text.lower()\n",
    "\n",
    "# Tokenize using NLTK\n",
    "words_nltk = word_tokenize(text_lower)\n",
    "\n",
    "# Remove stopwords using NLTK\n",
    "stop_words = set(stopwords.words('english'))\n",
    "filtered_words_nltk = [word for word in words_nltk if word not in stop_words]\n",
    "\n",
    "# Tokenize using SpaCy\n",
    "doc = nlp(text_lower)\n",
    "\n",
    "# Display the filtered words\n",
    "print(\"Filtered words using NLTK:\", filtered_words_nltk)\n",
    "\n",
    "# Using SpaCy to remove stopwords and display the tokens\n",
    "filtered_words_spacy = [token.text for token in doc if not token.is_stop]\n",
    "print(\"Filtered words using SpaCy:\", filtered_words_spacy)\n",
    "\n"
   ]
  },
  {
   "cell_type": "code",
   "execution_count": null,
   "id": "75875dc7",
   "metadata": {},
   "outputs": [],
   "source": []
  },
  {
   "cell_type": "code",
   "execution_count": null,
   "id": "4b29613d",
   "metadata": {},
   "outputs": [],
   "source": []
  }
 ],
 "metadata": {
  "kernelspec": {
   "display_name": "Python 3 (ipykernel)",
   "language": "python",
   "name": "python3"
  },
  "language_info": {
   "codemirror_mode": {
    "name": "ipython",
    "version": 3
   },
   "file_extension": ".py",
   "mimetype": "text/x-python",
   "name": "python",
   "nbconvert_exporter": "python",
   "pygments_lexer": "ipython3",
   "version": "3.9.13"
  }
 },
 "nbformat": 4,
 "nbformat_minor": 5
}
