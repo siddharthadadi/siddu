{
 "cells": [
  {
   "cell_type": "code",
   "execution_count": 1,
   "id": "0e93d4db",
   "metadata": {},
   "outputs": [
    {
     "name": "stdout",
     "output_type": "stream",
     "text": [
      "Integer Variable:\n",
      "Value: 10, Type: <class 'int'>\n",
      "\n",
      "Float Variable:\n",
      "Value: 20.5, Type: <class 'float'>\n",
      "\n",
      "String Variable:\n",
      "Value: Hello, World!, Type: <class 'str'>\n",
      "\n",
      "Boolean Variable:\n",
      "Value: True, Type: <class 'bool'>\n",
      "\n"
     ]
    }
   ],
   "source": [
    "\n",
    "integer_var = 10\n",
    "float_var = 20.5\n",
    "string_var = \"Hello, World!\"\n",
    "boolean_var = True\n",
    "\n",
    "\n",
    "print(\"Integer Variable:\")\n",
    "print(f\"Value: {integer_var}, Type: {type(integer_var)}\\n\")\n",
    "\n",
    "print(\"Float Variable:\")\n",
    "print(f\"Value: {float_var}, Type: {type(float_var)}\\n\")\n",
    "\n",
    "print(\"String Variable:\")\n",
    "print(f\"Value: {string_var}, Type: {type(string_var)}\\n\")\n",
    "\n",
    "print(\"Boolean Variable:\")\n",
    "print(f\"Value: {boolean_var}, Type: {type(boolean_var)}\\n\")\n"
   ]
  },
  {
   "cell_type": "code",
   "execution_count": null,
   "id": "8c4d79a2",
   "metadata": {},
   "outputs": [],
   "source": []
  }
 ],
 "metadata": {
  "kernelspec": {
   "display_name": "Python 3 (ipykernel)",
   "language": "python",
   "name": "python3"
  },
  "language_info": {
   "codemirror_mode": {
    "name": "ipython",
    "version": 3
   },
   "file_extension": ".py",
   "mimetype": "text/x-python",
   "name": "python",
   "nbconvert_exporter": "python",
   "pygments_lexer": "ipython3",
   "version": "3.10.13"
  }
 },
 "nbformat": 4,
 "nbformat_minor": 5
}
